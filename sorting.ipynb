{
 "cells": [
  {
   "cell_type": "code",
   "execution_count": null,
   "id": "3717bec5-cfc2-4168-b356-0f804444810b",
   "metadata": {},
   "outputs": [],
   "source": [
    "#sorting problems"
   ]
  },
  {
   "cell_type": "code",
   "execution_count": null,
   "id": "4683c312-fad4-4364-aac0-cf0e41e47147",
   "metadata": {},
   "outputs": [],
   "source": [
    "#1.1.Given an array of n numbers, give an algorithm which gives the element appearing maximum\n",
    "number of times?"
   ]
  },
  {
   "cell_type": "code",
   "execution_count": 1,
   "id": "ea7c44b2-ab49-4ad8-9701-245f4620212c",
   "metadata": {
    "tags": []
   },
   "outputs": [
    {
     "name": "stdout",
     "output_type": "stream",
     "text": [
      "2\n"
     ]
    }
   ],
   "source": [
    "def most_frequent_element(arr):\n",
    "    arr.sort()\n",
    "\n",
    "    max_frequency = 1\n",
    "    current_frequency = 1\n",
    "    most_frequent_element = arr[0]\n",
    "\n",
    "    for i in range(1, len(arr)):\n",
    "        if arr[i] == arr[i - 1]:\n",
    "            current_frequency += 1\n",
    "        else:\n",
    "            current_frequency = 1\n",
    "\n",
    "        if current_frequency > max_frequency:\n",
    "            max_frequency = current_frequency\n",
    "            most_frequent_element = arr[i]\n",
    "\n",
    "    return most_frequent_element\n",
    "\n",
    "# Example usage:\n",
    "arr = [1, 2, 3, 2, 2, 4, 5, 2]\n",
    "result = most_frequent_element(arr)\n",
    "print(result)\n"
   ]
  },
  {
   "cell_type": "code",
   "execution_count": null,
   "id": "1738f587-adde-48fc-97e2-c4ce076cf316",
   "metadata": {},
   "outputs": [],
   "source": [
    "#2.We are given a list of n-1 integers and these integers are in the range of 1 to n . There are no\n",
    "duplicates in the list. One of the integers is missing in the list. Give an algorithm to find that element Ex:\n",
    "[1,2,4,6,3,7,8] 5 is the missing num."
   ]
  },
  {
   "cell_type": "code",
   "execution_count": 2,
   "id": "6077b914-0c31-489d-bd65-c1e339e8e180",
   "metadata": {
    "tags": []
   },
   "outputs": [
    {
     "name": "stdout",
     "output_type": "stream",
     "text": [
      "5\n"
     ]
    }
   ],
   "source": [
    "def find_missing_number(arr):\n",
    "    arr.sort()\n",
    "\n",
    "    for i in range(len(arr)):\n",
    "        if arr[i] != i + 1:\n",
    "            return i + 1\n",
    "\n",
    "    # If the loop completes without finding a missing number, return n + 1\n",
    "    return len(arr) + 1\n",
    "\n",
    "# Example usage:\n",
    "arr = [1, 2, 4, 6, 3, 7, 8]\n",
    "result = find_missing_number(arr)\n",
    "print(result)\n"
   ]
  },
  {
   "cell_type": "code",
   "execution_count": null,
   "id": "41efaaf9-9f1e-4752-8d19-96870b862527",
   "metadata": {},
   "outputs": [],
   "source": [
    "#3Given an array of n positive numbers. All numbers occurs even number of times except 1 which\n",
    "occurs odd number of times. Find that number in O(n) time and O(1) space. Ex: [1,2,3,2,3,1,3]. 3 is repeats odd\n",
    "times."
   ]
  },
  {
   "cell_type": "code",
   "execution_count": 3,
   "id": "efa5d31f-c3f3-457b-9433-9e231f6c24d2",
   "metadata": {
    "tags": []
   },
   "outputs": [
    {
     "name": "stdout",
     "output_type": "stream",
     "text": [
      "3\n"
     ]
    }
   ],
   "source": [
    "def find_odd_occurrence(arr):\n",
    "    result = 0\n",
    "\n",
    "    for num in arr:\n",
    "        result ^= num\n",
    "\n",
    "    return result\n",
    "\n",
    "# Example usage:\n",
    "arr = [1, 2, 3, 2, 3, 1, 3]\n",
    "result = find_odd_occurrence(arr)\n",
    "print(result)\n"
   ]
  },
  {
   "cell_type": "code",
   "execution_count": null,
   "id": "af607bf0-a23a-47b2-9a5d-8571e36b5f98",
   "metadata": {},
   "outputs": [],
   "source": [
    "#4Given an array of n elements. Find two elements in the array such that their sum is equal to given\n",
    "element K."
   ]
  },
  {
   "cell_type": "code",
   "execution_count": 4,
   "id": "3b68d56f-4c32-4b14-b81c-0e2469c6c846",
   "metadata": {
    "tags": []
   },
   "outputs": [
    {
     "name": "stdout",
     "output_type": "stream",
     "text": [
      "Pair with sum 9: (4, 5)\n"
     ]
    }
   ],
   "source": [
    "def find_pair_with_sum(arr, K):\n",
    "    arr.sort()\n",
    "    left, right = 0, len(arr) - 1\n",
    "\n",
    "    while left < right:\n",
    "        current_sum = arr[left] + arr[right]\n",
    "\n",
    "        if current_sum == K:\n",
    "            return (arr[left], arr[right])\n",
    "        elif current_sum < K:\n",
    "            left += 1\n",
    "        else:\n",
    "            right -= 1\n",
    "\n",
    "    return None\n",
    "\n",
    "# Example usage:\n",
    "arr = [1, 2, 3, 4, 5]\n",
    "K = 9\n",
    "result = find_pair_with_sum(arr, K)\n",
    "\n",
    "if result:\n",
    "    print(f\"Pair with sum {K}: {result}\")\n",
    "else:\n",
    "    print(f\"No pair with sum {K} found.\")\n"
   ]
  },
  {
   "cell_type": "code",
   "execution_count": null,
   "id": "67ac52cb-6307-452b-b254-cecca749d5fe",
   "metadata": {},
   "outputs": [],
   "source": [
    "#5 Given an array of both positive and negative numbers, find two numbers such that their sum is\n",
    "closest to 0. Ex: [ 1 ,60 ,-10, 70, -80,85]. Ans : -80,85."
   ]
  },
  {
   "cell_type": "code",
   "execution_count": 5,
   "id": "d7c5c3c4-6f1e-45c7-ad33-91ba022a1ade",
   "metadata": {
    "tags": []
   },
   "outputs": [
    {
     "name": "stdout",
     "output_type": "stream",
     "text": [
      "Closest sum pair to 0: (-80, 85)\n"
     ]
    }
   ],
   "source": [
    "def closest_sum_pair(arr):\n",
    "    arr.sort()\n",
    "    left, right = 0, len(arr) - 1\n",
    "    closest_sum = float('inf')\n",
    "    result_pair = None\n",
    "\n",
    "    while left < right:\n",
    "        current_sum = arr[left] + arr[right]\n",
    "        current_diff = abs(current_sum)\n",
    "\n",
    "        if current_diff < closest_sum:\n",
    "            closest_sum = current_diff\n",
    "            result_pair = (arr[left], arr[right])\n",
    "\n",
    "        if current_sum < 0:\n",
    "            left += 1\n",
    "        else:\n",
    "            right -= 1\n",
    "\n",
    "    return result_pair\n",
    "\n",
    "# Example usage:\n",
    "arr = [1, 60, -10, 70, -80, 85]\n",
    "result = closest_sum_pair(arr)\n",
    "\n",
    "if result:\n",
    "    print(f\"Closest sum pair to 0: {result}\")\n",
    "else:\n",
    "    print(\"No pair found.\")\n"
   ]
  },
  {
   "cell_type": "code",
   "execution_count": null,
   "id": "abb6f722-b0f3-4c04-84ee-39b547b9d270",
   "metadata": {},
   "outputs": [],
   "source": [
    "#6 Given an array of n elements . Find three elements such that their sum is equal to the given\n",
    "number."
   ]
  },
  {
   "cell_type": "code",
   "execution_count": 7,
   "id": "e521ff37-011f-4e90-a75c-87c4699aebc3",
   "metadata": {
    "tags": []
   },
   "outputs": [
    {
     "name": "stdout",
     "output_type": "stream",
     "text": [
      "Triplet with sum 22: (4, 8, 10)\n"
     ]
    }
   ],
   "source": [
    "def find_triplet_with_sum(arr, K):\n",
    "    arr.sort()\n",
    "    n = len(arr)\n",
    "\n",
    "    for i in range(n - 2):\n",
    "        left, right = i + 1, n - 1\n",
    "\n",
    "        while left < right:\n",
    "            current_sum = arr[i] + arr[left] + arr[right]\n",
    "\n",
    "            if current_sum == K:\n",
    "                return (arr[i], arr[left], arr[right])\n",
    "            elif current_sum < K:\n",
    "                left += 1\n",
    "            else:\n",
    "                right -= 1\n",
    "\n",
    "    return None\n",
    "\n",
    "# Example usage:\n",
    "arr = [1, 4, 45, 6, 10, 8]\n",
    "K = 22\n",
    "result = find_triplet_with_sum(arr, K)\n",
    "\n",
    "if result:\n",
    "    print(f\"Triplet with sum {K}: {result}\")\n",
    "else:\n",
    "    print(f\"No triplet with sum {K} found.\")\n"
   ]
  },
  {
   "cell_type": "code",
   "execution_count": null,
   "id": "c22d2e04-d74f-42a1-b95f-9600d222f6e5",
   "metadata": {},
   "outputs": [],
   "source": [
    "#7 7 : Given an array of n elements . Find three elements i, j, k in the array such that\n",
    "i * i + j * j = k*k."
   ]
  },
  {
   "cell_type": "code",
   "execution_count": 8,
   "id": "f3d03e3c-37a9-4a1e-b7e6-a19a45e2feaf",
   "metadata": {
    "tags": []
   },
   "outputs": [
    {
     "name": "stdout",
     "output_type": "stream",
     "text": [
      "Triplet satisfying Pythagorean theorem: (3, 4, 5)\n"
     ]
    }
   ],
   "source": [
    "def find_triplet_pythagorean(arr):\n",
    "    arr.sort()\n",
    "    n = len(arr)\n",
    "\n",
    "    for k in range(n - 1, 1, -1):\n",
    "        left, right = 0, k - 1\n",
    "\n",
    "        while left < right:\n",
    "            sum_of_squares = arr[left]**2 + arr[right]**2\n",
    "\n",
    "            if sum_of_squares == arr[k]**2:\n",
    "                return (arr[left], arr[right], arr[k])\n",
    "            elif sum_of_squares < arr[k]**2:\n",
    "                left += 1\n",
    "            else:\n",
    "                right -= 1\n",
    "\n",
    "    return None\n",
    "\n",
    "# Example usage:\n",
    "arr = [3, 1, 4, 6, 5]\n",
    "result = find_triplet_pythagorean(arr)\n",
    "\n",
    "if result:\n",
    "    print(f\"Triplet satisfying Pythagorean theorem: {result}\")\n",
    "else:\n",
    "    print(\"No such triplet found.\")\n"
   ]
  },
  {
   "cell_type": "code",
   "execution_count": null,
   "id": "09b52330-534c-4feb-b1cd-26dc9398439d",
   "metadata": {},
   "outputs": [],
   "source": [
    "#8 An element is a majority if it appears more than n/2 times. Give an algorithm takes an array of n\n",
    "element as argument and identifies a majority (if it exists)."
   ]
  },
  {
   "cell_type": "code",
   "execution_count": 9,
   "id": "109e9d0e-fe5a-4bba-b35b-fbc5b49c094a",
   "metadata": {
    "tags": []
   },
   "outputs": [
    {
     "name": "stdout",
     "output_type": "stream",
     "text": [
      "Majority element: 4\n"
     ]
    }
   ],
   "source": [
    "def find_majority_element(arr):\n",
    "    arr.sort()\n",
    "    n = len(arr)\n",
    "    middle = n // 2\n",
    "\n",
    "    if n % 2 == 0:\n",
    "        # If the array has an even length, there is no middle element\n",
    "        return None\n",
    "\n",
    "    majority_candidate = arr[middle]\n",
    "\n",
    "    # Check if the majority candidate appears more than n/2 times\n",
    "    if arr.count(majority_candidate) > n / 2:\n",
    "        return majority_candidate\n",
    "    else:\n",
    "        return None\n",
    "\n",
    "# Example usage:\n",
    "arr = [3, 3, 4, 2, 4, 4, 2, 4, 4]\n",
    "result = find_majority_element(arr)\n",
    "\n",
    "if result:\n",
    "    print(f\"Majority element: {result}\")\n",
    "else:\n",
    "    print(\"No majority element found.\")\n"
   ]
  },
  {
   "cell_type": "code",
   "execution_count": null,
   "id": "95bbfff5-2b59-4bc8-8941-05babb1b256d",
   "metadata": {},
   "outputs": [],
   "source": [
    "#9 : Given n × n matrix, and in each row all 1’s are followed by 0’s. Find the row with the maximum\n",
    "number of 0’s."
   ]
  },
  {
   "cell_type": "code",
   "execution_count": 10,
   "id": "d95a75d6-8e4e-4094-aa3d-fbf1448d32b3",
   "metadata": {
    "tags": []
   },
   "outputs": [
    {
     "name": "stdout",
     "output_type": "stream",
     "text": [
      "Row with maximum number of zeros: [1, 0, 0, 0]\n"
     ]
    }
   ],
   "source": [
    "def find_row_with_max_zeros(matrix):\n",
    "    # Function to count the number of zeros in a row\n",
    "    def count_zeros(row):\n",
    "        return row.count(0)\n",
    "\n",
    "    # Sort the matrix rows based on the count of zeros\n",
    "    sorted_matrix = sorted(matrix, key=count_zeros, reverse=True)\n",
    "\n",
    "    # Return the row with the maximum count of zeros\n",
    "    return sorted_matrix[0]\n",
    "\n",
    "# Example usage:\n",
    "matrix = [\n",
    "    [1, 1, 1, 0],\n",
    "    [1, 1, 0, 0],\n",
    "    [1, 0, 0, 0],\n",
    "    [1, 1, 1, 0]\n",
    "]\n",
    "\n",
    "result_row = find_row_with_max_zeros(matrix)\n",
    "print(f\"Row with maximum number of zeros: {result_row}\")\n"
   ]
  },
  {
   "cell_type": "code",
   "execution_count": null,
   "id": "039f9c19-6b5e-4dde-a50f-920ef0c0f760",
   "metadata": {},
   "outputs": [],
   "source": [
    "#10 : Sort an array of 0’s, 1’s and 2’s [or R’s, G’s and B’s]: Given an array A[] consisting of 0’s, 1’s and\n",
    "2’s, give an algorithm for sorting A[].The algorithm should put all 0’s first, then all 1’s and finally all 2’s at the\n",
    "end. Example Input = {0,1,1,0,1,2,1,2,0,0,0,1}, Output = {0,0,0,0,0,1,1,1,1,1,2,2}"
   ]
  },
  {
   "cell_type": "code",
   "execution_count": 11,
   "id": "59018a1f-9057-4707-92ab-32bc4297878a",
   "metadata": {
    "tags": []
   },
   "outputs": [
    {
     "name": "stdout",
     "output_type": "stream",
     "text": [
      "Sorted Array: [0, 0, 0, 0, 0, 1, 1, 1, 1, 1, 2, 2]\n"
     ]
    }
   ],
   "source": [
    "def sort_012_array(arr):\n",
    "    low, mid, high = 0, 0, len(arr) - 1\n",
    "\n",
    "    while mid <= high:\n",
    "        if arr[mid] == 0:\n",
    "            arr[low], arr[mid] = arr[mid], arr[low]\n",
    "            low += 1\n",
    "            mid += 1\n",
    "        elif arr[mid] == 1:\n",
    "            mid += 1\n",
    "        else:\n",
    "            arr[mid], arr[high] = arr[high], arr[mid]\n",
    "            high -= 1\n",
    "\n",
    "# Example usage:\n",
    "arr = [0, 1, 1, 0, 1, 2, 1, 2, 0, 0, 0, 1]\n",
    "sort_012_array(arr)\n",
    "print(\"Sorted Array:\", arr)\n"
   ]
  }
 ],
 "metadata": {
  "kernelspec": {
   "display_name": "Python 3 (ipykernel)",
   "language": "python",
   "name": "python3"
  },
  "language_info": {
   "codemirror_mode": {
    "name": "ipython",
    "version": 3
   },
   "file_extension": ".py",
   "mimetype": "text/x-python",
   "name": "python",
   "nbconvert_exporter": "python",
   "pygments_lexer": "ipython3",
   "version": "3.11.5"
  }
 },
 "nbformat": 4,
 "nbformat_minor": 5
}
